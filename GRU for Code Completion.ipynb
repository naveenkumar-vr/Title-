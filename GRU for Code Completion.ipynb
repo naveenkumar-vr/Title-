{
 "cells": [
  {
   "cell_type": "code",
   "execution_count": 1,
   "metadata": {},
   "outputs": [],
   "source": [
    "import json\n",
    "from collections import Counter\n",
    "import pickle\n",
    "import torch_geometric\n",
    "import torch\n",
    "import torch.nn.functional as F\n",
    "from torch import nn\n",
    "from torch_geometric.nn import GATConv, global_mean_pool\n",
    "import matplotlib.pyplot as plt\n",
    "import seaborn as sns\n",
    "import math\n",
    "from torch_geometric.data import Data, DataLoader\n",
    "import random\n",
    "import time\n",
    "from earlystopping import EarlyStopping\n",
    "import numpy as np\n",
    "from torch.nn.utils.rnn import pad_sequence\n",
    "import os, psutil\n"
   ]
  },
  {
   "cell_type": "code",
   "execution_count": 2,
   "metadata": {},
   "outputs": [],
   "source": [
    "NUM_FILES_TRAIN = 100"
   ]
  },
  {
   "cell_type": "code",
   "execution_count": 3,
   "metadata": {},
   "outputs": [],
   "source": [
    "infile = open('common_Terminals','rb')\n",
    "common_terminals = pickle.load(infile)\n",
    "infile.close()"
   ]
  },
  {
   "cell_type": "code",
   "execution_count": 4,
   "metadata": {},
   "outputs": [],
   "source": [
    "infile = open('map_terminals_val','rb')\n",
    "map_terminals_val = pickle.load(infile)\n",
    "infile.close()"
   ]
  },
  {
   "cell_type": "code",
   "execution_count": 5,
   "metadata": {},
   "outputs": [],
   "source": [
    "infile = open('map_terminals_type','rb')\n",
    "map_type = pickle.load(infile)\n",
    "infile.close()"
   ]
  },
  {
   "cell_type": "code",
   "execution_count": 6,
   "metadata": {},
   "outputs": [],
   "source": [
    "def non_terminal(node):\n",
    "    if('children' in node):\n",
    "        return True\n",
    "    return False\n",
    "\n",
    "curr_idx = 0\n",
    "map_idx_val = {}\n",
    "\n",
    "\n",
    "def dfs(program, idx, flattened_tree, edge_list1, edge_list2, map_right_sibling, map_non_terminal_child):\n",
    "    global curr_idx\n",
    "    global map_idx_val\n",
    "    node = program[idx]\n",
    "    map_idx_val[idx] = curr_idx\n",
    "    curr_idx += 1\n",
    "    if(non_terminal(node)):\n",
    "        x = non_terminals_mapping[(map_type[node['type']], map_right_sibling[idx], map_non_terminal_child[idx])]\n",
    "        flattened_tree.append([x, map_terminals_val['none']])\n",
    "        for i in node['children']:\n",
    "            dfs(program, i, flattened_tree, edge_list1, edge_list2, map_right_sibling, map_non_terminal_child)\n",
    "        for i in node['children']:\n",
    "            edge_list1.append(map_idx_val[idx])\n",
    "            edge_list2.append(map_idx_val[i])\n",
    "            edge_list1.append(map_idx_val[i]) #Bi-directional edges\n",
    "            edge_list2.append(map_idx_val[idx])\n",
    "            \n",
    "    else:\n",
    "        val = \"\"\n",
    "        if(node['value'] not in map_terminals_val):\n",
    "            val = map_terminals_val['UNK']\n",
    "        else:\n",
    "            val = map_terminals_val[node['value']]\n",
    "        x = non_terminals_mapping[(map_type[node['type']], 0, 0)]\n",
    "        flattened_tree.append([x, val])\n",
    "            \n",
    "\n",
    "def construct_Seq(program):\n",
    "    global curr_idx\n",
    "    global map_idx_val\n",
    "    map_right_sibling = {}\n",
    "    map_non_terminal_child = {}\n",
    "    tokens = []\n",
    "    edge_list1 = []\n",
    "    edge_list2 = []\n",
    "    flattened_tree = []\n",
    "    map_right_sibling[0] = False\n",
    "    for node in program:\n",
    "        if(non_terminal(node)):\n",
    "            for i in range(len(node['children'])):\n",
    "                if(i + 1 == len(node['children'])):\n",
    "                    map_right_sibling[node['children'][i]] = False\n",
    "                else:\n",
    "                    map_right_sibling[node['children'][i]] = True\n",
    "            non_terminal_child = False\n",
    "            for i in node['children']:\n",
    "                if('children' in program[i]):\n",
    "                    non_terminal_child = True\n",
    "                    break\n",
    "            map_non_terminal_child[node['id']] = non_terminal_child\n",
    "    curr_idx = 0\n",
    "    map_idx_val = {}\n",
    "    dfs(program, 0, flattened_tree, edge_list1, edge_list2, map_right_sibling, map_non_terminal_child)\n",
    "    return flattened_tree, edge_list1, edge_list2"
   ]
  },
  {
   "cell_type": "code",
   "execution_count": 24,
   "metadata": {},
   "outputs": [],
   "source": [
    "non_terminals_mapping = {}\n",
    "c = 0\n",
    "for i in range(46):\n",
    "    for j in range(2):\n",
    "        for k in range(2):\n",
    "            non_terminals_mapping[(i, j, k)] = c\n",
    "            c += 1\n",
    "            \n",
    "inverse_mapping = {}\n",
    "for i in non_terminals_mapping:\n",
    "    inverse_mapping[non_terminals_mapping[i]] = i[0]"
   ]
  },
  {
   "cell_type": "code",
   "execution_count": null,
   "metadata": {},
   "outputs": [],
   "source": []
  },
  {
   "cell_type": "code",
   "execution_count": 8,
   "metadata": {},
   "outputs": [
    {
     "name": "stdout",
     "output_type": "stream",
     "text": [
      "1.0\n",
      "2.0\n",
      "3.0\n",
      "4.0\n",
      "5.0\n",
      "6.0\n",
      "7.0\n",
      "8.0\n",
      "18.0\n",
      "19.0\n",
      "20.0\n",
      "21.0\n",
      "22.0\n",
      "23.0\n",
      "24.0\n",
      "25.0\n",
      "26.0\n",
      "27.0\n",
      "28.0\n",
      "29.0\n",
      "30.0\n",
      "31.0\n",
      "32.0\n",
      "33.0\n",
      "34.0\n",
      "35.0\n",
      "36.0\n",
      "37.0\n",
      "38.0\n",
      "39.0\n",
      "40.0\n",
      "41.0\n",
      "42.0\n",
      "43.0\n",
      "44.0\n",
      "45.0\n",
      "46.0\n",
      "47.0\n",
      "48.0\n",
      "49.0\n",
      "50.0\n",
      "51.0\n",
      "52.0\n",
      "53.0\n",
      "54.0\n",
      "55.0\n",
      "56.0\n",
      "57.0\n",
      "58.0\n",
      "59.0\n",
      "60.0\n",
      "61.0\n",
      "62.0\n",
      "63.0\n",
      "64.0\n",
      "65.0\n",
      "66.0\n",
      "67.0\n",
      "68.0\n",
      "69.0\n",
      "70.0\n",
      "71.0\n",
      "72.0\n",
      "73.0\n",
      "74.0\n",
      "75.0\n",
      "76.0\n",
      "77.0\n",
      "78.0\n",
      "79.0\n",
      "80.0\n",
      "81.0\n",
      "82.0\n",
      "83.0\n",
      "84.0\n",
      "85.0\n",
      "86.0\n",
      "87.0\n",
      "88.0\n",
      "89.0\n",
      "90.0\n",
      "91.0\n",
      "92.0\n",
      "93.0\n",
      "94.0\n",
      "95.0\n",
      "96.0\n",
      "97.0\n",
      "98.0\n",
      "99.0\n",
      "100.0\n"
     ]
    }
   ],
   "source": [
    "data = []\n",
    "train_data = []\n",
    "count = 0\n",
    "with open('programs_training.json', encoding='latin1') as f:\n",
    "    for line in f:\n",
    "        count += 1\n",
    "        t = json.loads(line)\n",
    "        t.pop()\n",
    "        last_elem = t[-1]['id']\n",
    "        d = {'id' : last_elem + 1, 'type': \"EOF\", 'value' : \"EOF\"}\n",
    "        t.append(d)\n",
    "        for j in t:\n",
    "            if(\"children\" not in j and \"value\" not in j):\n",
    "                j['value'] = j['type']\n",
    "        tree, edge1, edge2 = construct_Seq(t)\n",
    "        edge_list = torch.tensor([edge1, edge2], dtype = torch.long)\n",
    "        #print(tree, edge_list)\n",
    "        tree = torch.tensor(tree, dtype = torch.long)\n",
    "        train_data.append(tree)\n",
    "        #data.append(t)\n",
    "        if(count % 1000 == 0):\n",
    "            print(count/1000)"
   ]
  },
  {
   "cell_type": "code",
   "execution_count": 9,
   "metadata": {},
   "outputs": [
    {
     "name": "stdout",
     "output_type": "stream",
     "text": [
      "100000\n"
     ]
    }
   ],
   "source": [
    "print(len(train_data))"
   ]
  },
  {
   "cell_type": "code",
   "execution_count": 11,
   "metadata": {},
   "outputs": [],
   "source": [
    "def constructTensorfromProgram(data):\n",
    "    res = torch.split(data, 50)\n",
    "    res = list(res)\n",
    "    if(res[-1].shape[0] != 50):\n",
    "        x = non_terminals_mapping[(map_type['EOF'], 0, 0)]\n",
    "        dummy_tensor = torch.tensor([x, map_terminals_val['none']])\n",
    "        dummy_tensor = dummy_tensor.repeat((50 - res[-1].shape[0], 1))\n",
    "        dummy_tensor = torch.cat([res[-1], dummy_tensor])\n",
    "        res = res[:-1]\n",
    "        res.append(dummy_tensor)\n",
    "    res = torch.stack(res, dim = 0)\n",
    "    ans = res[:, 49, :]\n",
    "    res = res[:, :-1, :]\n",
    "    ans[:, 0].apply_(lambda x : inverse_mapping[x])\n",
    "    return res, ans"
   ]
  },
  {
   "cell_type": "code",
   "execution_count": 32,
   "metadata": {},
   "outputs": [],
   "source": [
    "def RAM():\n",
    "    process = psutil.Process(os.getpid())\n",
    "    print(process.memory_info().rss/1024/1024/1024)"
   ]
  },
  {
   "cell_type": "code",
   "execution_count": 17,
   "metadata": {},
   "outputs": [],
   "source": [
    "SEQ_LEN = 49\n",
    "NUM_CLASSES_VALUE = len(map_terminals_val) + 1\n",
    "NUM_CLASSES_TYPE = len(non_terminals_mapping) + 1\n",
    "WORD_EMBEDDING_DIM1 = 128\n",
    "WORD_EMBEDDING_DIM2 = 64\n",
    "HIDDEN_SIZE = 512\n",
    "\n",
    "class Graph2CodeNet(torch.nn.Module):\n",
    "    def __init__(self):\n",
    "        super(Graph2CodeNet, self).__init__()\n",
    "        self.embeddingLayervalue = nn.Embedding(NUM_CLASSES_VALUE, WORD_EMBEDDING_DIM1)\n",
    "        self.embeddingLayertype = nn.Embedding(NUM_CLASSES_TYPE, WORD_EMBEDDING_DIM2)\n",
    "        self.GRU = nn.GRU(input_size =WORD_EMBEDDING_DIM1 + WORD_EMBEDDING_DIM2, hidden_size = HIDDEN_SIZE, \n",
    "                          batch_first = True, num_layers = 2, bidirectional = True)\n",
    "        self.linearTerminal = nn.Linear(in_features = HIDDEN_SIZE * 4, out_features = 10002)\n",
    "        self.linearNon_Terminal = nn.Linear(in_features = HIDDEN_SIZE * 4, out_features = 46)\n",
    "        \n",
    "        \n",
    "\n",
    "    def forward(self, x, h_0):\n",
    "        h_0.to(device)\n",
    "        x.to(device)\n",
    "        typeEmbedded = self.embeddingLayertype(x[:,:,0])\n",
    "        valEmbedded = self.embeddingLayervalue(x[:,:,1])\n",
    "        x = torch.cat((typeEmbedded, valEmbedded), 2)\n",
    "        _, h_n = self.GRU(x, h_0)\n",
    "        y = h_n.view(h_n.shape[1], -1)\n",
    "        out2 = self.linearNon_Terminal(y)\n",
    "        #print(out.shape)\n",
    "        return out2, h_n\n",
    "    \n",
    "    \n",
    "def count_parameters(model):\n",
    "    return sum(p.numel() for p in model.parameters() if p.requires_grad)"
   ]
  },
  {
   "cell_type": "code",
   "execution_count": 18,
   "metadata": {},
   "outputs": [],
   "source": [
    "model = Graph2CodeNet()"
   ]
  },
  {
   "cell_type": "code",
   "execution_count": 20,
   "metadata": {},
   "outputs": [],
   "source": [
    "device = torch.device('cuda:0')\n",
    "model = model.to(device)"
   ]
  },
  {
   "cell_type": "code",
   "execution_count": 21,
   "metadata": {},
   "outputs": [],
   "source": [
    "random.shuffle(train_data)"
   ]
  },
  {
   "cell_type": "code",
   "execution_count": 25,
   "metadata": {},
   "outputs": [
    {
     "name": "stdout",
     "output_type": "stream",
     "text": [
      "Train time is: 0.011936787764231365 -> 0.0%\n",
      "Train time is: 4.667750199635823 -> 0.025%\n",
      "Train time is: 9.492753513654073 -> 0.05%\n",
      "Train time is: 14.208226148287455 -> 0.075%\n",
      "Train time is: 18.712927687168122 -> 0.1%\n",
      "Train time is: 23.145308077335358 -> 0.125%\n",
      "Train time is: 28.49252483447393 -> 0.15%\n",
      "Train time is: 33.033630565802255 -> 0.175%\n",
      "Train time is: 37.886666576067604 -> 0.2%\n",
      "Train time is: 42.652442053953806 -> 0.225%\n",
      "Train time is: 47.380858874320985 -> 0.25%\n",
      "Train time is: 52.212037257353465 -> 0.275%\n",
      "Train time is: 56.802160092194875 -> 0.3%\n",
      "Train time is: 61.44942443370819 -> 0.325%\n",
      "Train time is: 66.00965468883514 -> 0.35%\n",
      "Train time is: 70.70394931634267 -> 0.375%\n",
      "Train time is: 75.04670576651891 -> 0.4%\n",
      "Train time is: 79.89841272036234 -> 0.425%\n",
      "Train time is: 84.50318694114685 -> 0.45%\n",
      "Train time is: 89.12033751010895 -> 0.475%\n",
      "Train time is: 94.147063990434 -> 0.5%\n",
      "Train time is: 98.83363924423854 -> 0.525%\n",
      "Train time is: 103.49698944886525 -> 0.55%\n",
      "Train time is: 107.92279203335444 -> 0.575%\n",
      "Train time is: 112.8120023727417 -> 0.6%\n",
      "Train time is: 117.69347008069356 -> 0.625%\n",
      "Train time is: 122.48222362995148 -> 0.65%\n",
      "Train time is: 127.9946940223376 -> 0.675%\n",
      "Train time is: 133.03925937811533 -> 0.7%\n",
      "Train time is: 138.15082434018453 -> 0.725%\n",
      "Train time is: 142.54577689170839 -> 0.75%\n",
      "Train time is: 147.58039399385453 -> 0.775%\n",
      "Train time is: 152.20107590357463 -> 0.8%\n",
      "Train time is: 156.90317972898484 -> 0.825%\n",
      "Train time is: 161.21167158683141 -> 0.85%\n",
      "Train time is: 166.12421108881634 -> 0.875%\n",
      "Train time is: 170.52223873535792 -> 0.9%\n",
      "Train time is: 175.039300541083 -> 0.925%\n",
      "Train time is: 179.52987457116444 -> 0.95%\n",
      "Train time is: 184.02481254736583 -> 0.975%\n",
      "Train time is: 189.14618117014567 -> 1.0%\n",
      "Time taken: 189.14773678382238\n"
     ]
    },
    {
     "data": {
      "image/png": "[encoded data removed]",
      "text/plain": [
       "<Figure size 432x288 with 1 Axes>"
      ]
     },
     "metadata": {
      "needs_background": "light"
     },
     "output_type": "display_data"
    }
   ],
   "source": [
    "criterion = torch.nn.CrossEntropyLoss()\n",
    "optimizer = torch.optim.Adam(model.parameters())\n",
    "BATCH_SIZE = 256\n",
    "\n",
    "train_losses = 0\n",
    "avg_train_losses = []\n",
    "\n",
    "start = time.time()\n",
    "count = 0\n",
    "idx = 0\n",
    "for i in train_data:\n",
    "    h_0 = torch.zeros(4, 1, 512)\n",
    "    h_0 = h_0.to(device)\n",
    "    res, ans = constructTensorfromProgram(i)\n",
    "    for j in range(res.shape[0]):\n",
    "        x = res[j, :,:].view(1, 49, -1)\n",
    "        x = x.to(device)\n",
    "        out_N, h_0 = model(x, h_0)\n",
    "        count += 1       \n",
    "        ans1 = ans[j, 0:1]\n",
    "        ans1 = ans1.to(device)\n",
    "        loss = criterion(out_N, ans1) #ANS IS TO BE PROCESSED\n",
    "        loss.backward()\n",
    "        nn.utils.clip_grad_value_(model.parameters(), clip_value = 5.0)\n",
    "        train_losses += loss.item()\n",
    "        if(count % BATCH_SIZE == 0):\n",
    "            avg_train_losses.append(train_losses / BATCH_SIZE)\n",
    "            train_losses = 0\n",
    "            optimizer.step()\n",
    "            optimizer.zero_grad()\n",
    "        h_0.detach_()\n",
    "        if(j > 100):\n",
    "            break\n",
    "    if(idx % 1000 == 0):\n",
    "        print(f\"Train time is: {(time.time() - start)/60} -> {idx / 40000}%\")\n",
    "    if(idx >= 40000):\n",
    "        break\n",
    "    idx += 1\n",
    "        \n",
    "plt.plot(avg_train_losses)\n",
    "end = time.time()\n",
    "print(\"Time taken:\", (end - start)/60)"
   ]
  },
  {
   "cell_type": "code",
   "execution_count": 26,
   "metadata": {},
   "outputs": [],
   "source": [
    "eval_data = train_data[80000:]"
   ]
  },
  {
   "cell_type": "code",
   "execution_count": 30,
   "metadata": {},
   "outputs": [
    {
     "name": "stdout",
     "output_type": "stream",
     "text": [
      "Validation set prediction acccuracy is: 72.52%\n"
     ]
    }
   ],
   "source": [
    "with torch.no_grad():\n",
    "    total = 0\n",
    "    correct = 0\n",
    "    for i in eval_data:\n",
    "        h_0 = torch.zeros(4, 1, 512)\n",
    "        h_0 = h_0.to(device)\n",
    "        res, ans = constructTensorfromProgram(i)\n",
    "        for j in range(res.shape[0]):\n",
    "            x = res[j, :,:].view(1, 49, -1)\n",
    "            x = x.to(device)\n",
    "            out_N, h_0 = model(x, h_0)\n",
    "            total += 1       \n",
    "            #print(ans.shape)\n",
    "            ans1 = ans[j, 0:1]\n",
    "            ans1 = ans1.to(device)\n",
    "            out_N = torch.argmax(out_N, dim = 1)\n",
    "            #print(ans1.shape)\n",
    "            #print(torch.argmax(out_N, dim = 1).shape)\n",
    "            correct += sum(out_N == ans1).item()\n",
    "            if(total >= 10000):\n",
    "                break\n",
    "        if(total >= 10000):\n",
    "            break\n",
    "print(f\"Validation set prediction acccuracy is: {100*correct/total}%\")"
   ]
  },
  {
   "cell_type": "code",
   "execution_count": 31,
   "metadata": {},
   "outputs": [
    {
     "name": "stdout",
     "output_type": "stream",
     "text": [
      "Graph2CodeNet(\n",
      "  (embeddingLayervalue): Embedding(10002, 128)\n",
      "  (embeddingLayertype): Embedding(185, 64)\n",
      "  (GRU): GRU(192, 512, num_layers=2, batch_first=True, bidirectional=True)\n",
      "  (linearTerminal): Linear(in_features=2048, out_features=10002, bias=True)\n",
      "  (linearNon_Terminal): Linear(in_features=2048, out_features=46, bias=True)\n",
      ")\n"
     ]
    }
   ],
   "source": [
    "print(model)"
   ]
  },
  {
   "cell_type": "code",
   "execution_count": null,
   "metadata": {},
   "outputs": [],
   "source": []
  }
 ],
 "metadata": {
  "kernelspec": {
   "display_name": "Python 3",
   "language": "python",
   "name": "python3"
  },
  "language_info": {
   "codemirror_mode": {
    "name": "ipython",
    "version": 3
   },
   "file_extension": ".py",
   "mimetype": "text/x-python",
   "name": "python",
   "nbconvert_exporter": "python",
   "pygments_lexer": "ipython3",
   "version": "3.8.8"
  }
 },
 "nbformat": 4,
 "nbformat_minor": 4
}
